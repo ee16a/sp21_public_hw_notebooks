{
 "cells": [
  {
   "cell_type": "markdown",
   "metadata": {},
   "source": [
    "# EECS 16A Spring 2021 Homework 12"
   ]
  },
  {
   "cell_type": "code",
   "execution_count": null,
   "metadata": {},
   "outputs": [],
   "source": [
    "from __future__ import division\n",
    "%pylab inline\n",
    "import numpy as np\n",
    "import matplotlib.pyplot as plt\n",
    "import scipy.io\n",
    "import sys"
   ]
  },
  {
   "cell_type": "markdown",
   "metadata": {},
   "source": [
    "## Mechanical Least Squares - Optional IPython code for plotting"
   ]
  },
  {
   "cell_type": "code",
   "execution_count": null,
   "metadata": {},
   "outputs": [],
   "source": [
    "# use for plotting\n",
    "a = np.array([2,4,6,8])\n",
    "b = np.array([2,6,7,8])"
   ]
  },
  {
   "cell_type": "markdown",
   "metadata": {},
   "source": [
    "### Part (a)"
   ]
  },
  {
   "cell_type": "code",
   "execution_count": null,
   "metadata": {},
   "outputs": [],
   "source": [
    "# find a linear model of the form:   b = xa\n",
    "# According to the least squares formula, we can calculate xhat\n",
    "\n",
    "xhat = ## YOUR CODE HERE -- Use the least squares formula to compute the optimal x\n",
    "print('xhat: '+str(xhat))\n",
    "bhat = xhat*a\n",
    "\n",
    "# Calculate squared error\n",
    "se = np.dot(b-bhat,b-bhat)\n",
    "print('the squared error is '+str(se))"
   ]
  },
  {
   "cell_type": "code",
   "execution_count": null,
   "metadata": {},
   "outputs": [],
   "source": [
    "#HERE IS HOW TO PLOT POINTS\n",
    "plt.plot(a,b,'ob') \n",
    "#HERE IS HOW TO PLOT A LINE\n",
    "plt.plot(a,bhat,'-r')\n",
    "#HERE IS HOW TO CHANGE THE LIMITS OF THE PLOTTING WINDOW\n",
    "plt.xlim([0,9]); plt.ylim([0,9]);"
   ]
  },
  {
   "cell_type": "markdown",
   "metadata": {},
   "source": [
    "### Part (b)"
   ]
  },
  {
   "cell_type": "code",
   "execution_count": null,
   "metadata": {},
   "outputs": [],
   "source": [
    "# Copies of the data points\n",
    "a2 = a.copy()\n",
    "b2 = b.copy()\n",
    "A2 = ## YOUR CODE HERE -- set up the augmented matrix A.\n",
    "print('The augmented A matrix is')\n",
    "print(A2)\n",
    "\n",
    "xhat2 = ## YOUR CODE HERE -- Use the least squares formula to compute the optimal x vector\n",
    "print('xhat:')\n",
    "print(xhat2)\n",
    "bhat2 = np.dot(A2,xhat2)\n",
    "\n",
    "# The squared error is given by\n",
    "se2 = np.dot(b2 - bhat2,b2-bhat2)\n",
    "print('the squared error is '+str(se2))"
   ]
  },
  {
   "cell_type": "code",
   "execution_count": null,
   "metadata": {},
   "outputs": [],
   "source": [
    "#HERE IS HOW TO PLOT POINTS\n",
    "plt.plot(a2,b2,'ob') \n",
    "#HERE IS HOW TO PLOT A LINE\n",
    "plt.plot(a2,bhat2,'-r')\n",
    "#HERE IS HOW TO CHANGE THE LIMITS OF THE PLOTTING WINDOW\n",
    "plt.xlim([0,9]); plt.ylim([0,9]);"
   ]
  },
  {
   "cell_type": "markdown",
   "metadata": {},
   "source": [
    "## GPS Receivers"
   ]
  },
  {
   "cell_type": "code",
   "execution_count": null,
   "metadata": {},
   "outputs": [],
   "source": [
    "%pylab inline\n",
    "import numpy as np\n",
    "import matplotlib.pyplot as plt\n",
    "import scipy.io\n",
    "import sys"
   ]
  },
  {
   "cell_type": "code",
   "execution_count": null,
   "metadata": {},
   "outputs": [],
   "source": [
    "## RUN THIS FUNCTION BEFORE YOU START THIS PROBLEM\n",
    "## This function will generate the gold code associated with the satellite ID using linear shift registers\n",
    "## The satellite_ID can be any integer between 1 and 24\n",
    "def Gold_code_satellite(satellite_ID):\n",
    "    codelength = 1023\n",
    "    registerlength = 10\n",
    "    \n",
    "    # Defining the MLS for G1 generator\n",
    "    register1 = -1*np.ones(registerlength)\n",
    "    MLS1 = np.zeros(codelength)\n",
    "    for i in range(codelength):\n",
    "        MLS1[i] = register1[9]\n",
    "        modulo = register1[2]*register1[9]\n",
    "        register1 = np.roll(register1,1)\n",
    "        register1[0] = modulo\n",
    "    \n",
    "    # Defining the MLS for G2 generator\n",
    "    register2 = -1*np.ones(registerlength)\n",
    "    MLS2 = np.zeros(codelength)\n",
    "    for j in range(codelength):\n",
    "        MLS2[j] = register2[9]\n",
    "        modulo = register2[1]*register2[2]*register2[5]*register2[7]*register2[8]*register2[9]\n",
    "        register2 = np.roll(register2,1)\n",
    "        register2[0] = modulo\n",
    "    \n",
    "    delay = np.array([5,6,7,8,17,18,139,140,141,251,252,254,255,256,257,258,469,470,471,472,473,474,509,512,513,514,515,516,859,860,861,862])\n",
    "    G1_out = MLS1;\n",
    "    shamt = delay[satellite_ID - 1]\n",
    "    G2_out = np.roll(MLS2,shamt)\n",
    "    \n",
    "    CA_code = G1_out * G2_out\n",
    "    \n",
    "    return CA_code"
   ]
  },
  {
   "cell_type": "markdown",
   "metadata": {},
   "source": [
    "### Part (a)"
   ]
  },
  {
   "cell_type": "code",
   "execution_count": null,
   "metadata": {},
   "outputs": [],
   "source": [
    "def array_correlation(array1,array2):\n",
    "    \"\"\" This function should return two arrays or a matrix with one row corresponding to \n",
    "    the offset and other to the correlation value. array1 and array2 do not have to be\n",
    "    arrays of equal length. array2 is the argument that is shifted (i.e. the signature of the statellite), \n",
    "    array1 is the argument that is stationary, (i.e the received signal).\n",
    "    \"\"\"\n",
    "    ## Use np.correlate with \"FULL\". Check out the helper page for it \n",
    "    correlated_array = np.correlate(array1,array2,'full')\n",
    "    length1 = len(array1)\n",
    "    length2 = len(array2)\n",
    "    min_ind = min(length1,length2)\n",
    "    max_ind = max(length1,length2)\n",
    "    indices = np.linspace(-min_ind + 1, max_ind - 1, min_ind + max_ind -1)\n",
    "    return (indices, correlated_array)\n",
    "    \n",
    "# Plot the auto-correlation of satellite 10 with itself. \n",
    "array_10 = Gold_code_satellite(10)\n",
    "(ind_10, self_10) = array_correlation(array_10,array_10)\n",
    "plt.figure(figsize=(16,4))\n",
    "plt.stem(ind_10,self_10)"
   ]
  },
  {
   "cell_type": "markdown",
   "metadata": {},
   "source": [
    "### Part (b)"
   ]
  },
  {
   "cell_type": "code",
   "execution_count": null,
   "metadata": {},
   "outputs": [],
   "source": [
    "array_13 = Gold_code_satellite(13)\n",
    "(ind_10_13, cross_10_13) = array_correlation(#insert first agument, #insert second argument)\n",
    "plt.figure(figsize=(16,4))\n",
    "plt.stem(ind_10_13,cross_10_13)"
   ]
  },
  {
   "cell_type": "markdown",
   "metadata": {},
   "source": [
    "### Part (c)"
   ]
  },
  {
   "cell_type": "code",
   "execution_count": null,
   "metadata": {},
   "outputs": [],
   "source": [
    "## THIS IS A HELPER FUNCTION FOR PART C\n",
    "def integernoise_generator(length_of_noise):\n",
    "    noise_array = np.random.randint(2, size = length_of_noise)\n",
    "    noise_array = 2 * noise_array - np.ones(size(noise_array))\n",
    "    return noise_array\n",
    "\n",
    "## PART C CODE HERE\n",
    "intrand_signal = integernoise_generator(1023)\n",
    "(ind_intrand,cross_intrand) = array_correlation(#insert first agument, #insert second argument)\n",
    "plt.figure(figsize=(16,4))\n",
    "plt.stem(ind_intrand,cross_intrand)"
   ]
  },
  {
   "cell_type": "markdown",
   "metadata": {},
   "source": [
    "### Part (d)"
   ]
  },
  {
   "cell_type": "code",
   "execution_count": null,
   "metadata": {},
   "outputs": [],
   "source": [
    "## THIS IS A HELPER FUNCTION FOR PART D\n",
    "def gaussiannoise_generator(length_of_noise):\n",
    "    noise_array = np.random.normal(0,1,length_of_noise)\n",
    "    return noise_array\n",
    "\n",
    "## PART D CODE HERE\n",
    "gaussrand_signal = gaussiannoise_generator(1023)\n",
    "(ind_gaussrand,cross_gaussrand) = array_correlation(#insert first agument, #insert second argument)\n",
    "plt.figure(figsize=(16,4))\n",
    "plt.stem(ind_gaussrand,cross_gaussrand)"
   ]
  },
  {
   "cell_type": "markdown",
   "metadata": {},
   "source": [
    "### Part (e)\n",
    "Hint: You can use a absolute value threshold of 800 for the cross-correlation to detect if a given satellite is present. \n",
    "\n",
    "Hint: np.argwhere may be useful for detecting satellites with peaks. You can use other functions/ use a manual process."
   ]
  },
  {
   "cell_type": "code",
   "execution_count": null,
   "metadata": {},
   "outputs": [],
   "source": [
    "## THIS IS A HELPER FUNCTION FOR PART E, F AND G\n",
    "\n",
    "## This function returns a 1 if peak (greater than threshold or less than -threshold) is found else it returns a 0.\n",
    "def find_peak(correlation,threshold):\n",
    "    max_value = np.amax(correlation)\n",
    "    min_value = np.amin(correlation)\n",
    "    if max_value > threshold:\n",
    "        ret_value = 1\n",
    "    elif min_value < -1*threshold:\n",
    "        ret_value = 1\n",
    "    else:\n",
    "        ret_value = 0\n",
    "    return ret_value"
   ]
  },
  {
   "cell_type": "code",
   "execution_count": null,
   "metadata": {},
   "outputs": [],
   "source": [
    "# Part E\n",
    "## 'np.load' FUNCTION IS USED TO LOAD THE RECIEVED SIGNAL DATA\n",
    "signal1 = np.load('data1.npy')\n",
    "visible_sat_e = np.zeros(24) #this can be used to keep track of which satellites are visible\n",
    "thresh = 800\n",
    "\n",
    "# YOUR CODE HERE --- A skeleton that might be useful is provided, you may write this in any other way:\n",
    "for sat_ID in np.arange(1,24):\n",
    "    gold_code = Gold_code_satellite(sat_ID)\n",
    "    #YOUR CODE HERE\n",
    "    #find the correlation of the signal with the gold code of each satellite\n",
    "    #then find if any of the correlations cross the threshold value using the find-peak function\n",
    "    "
   ]
  },
  {
   "cell_type": "markdown",
   "metadata": {},
   "source": [
    "### Part (f)\n",
    "Hint: You can use a absolute value threshold of 800 for the cross-correlation to detect if a given satellite is present. \n",
    "\n",
    "Hint: np.argwhere may be useful for detecting satellites with peaks. You can use other functions/ use a manual process."
   ]
  },
  {
   "cell_type": "code",
   "execution_count": null,
   "metadata": {},
   "outputs": [],
   "source": [
    "## DATA2.NPY IS THE RECEIVED SIGNAL ARRAY\n",
    "signal2 = np.load('data2.npy')\n",
    "visible_sat_f = np.zeros(24) #this can be used to keep track of which satellites are visible\n",
    "thresh = 800\n",
    "\n",
    "# YOUR CODE HERE --- A skeleton that might be useful is provided, you may write this in any other way\n",
    "#Use this code block to first find which satellite is present\n",
    "\n",
    "for sat_ID in np.arange(1,24):\n",
    "    #find the correlation of the signal with the gold code of each satellite\n",
    "    #then find if any of the correlations cross the threshold value using the find-peak function\n",
    "            "
   ]
  },
  {
   "cell_type": "code",
   "execution_count": null,
   "metadata": {},
   "outputs": [],
   "source": [
    "# Using the satellite you found in the block above, now decode the message using the code below\n",
    "\n",
    "#First create an array with the signature gold code of the satellite you found\n",
    "#WRITE A LINE HERE TO FIND THE CROSS CORRELATION OF SIGNAL2 LOADED ABOVE WITH THE CODE OF THE SATELLITE YOU FOUND\n",
    "plt.figure(figsize=(16,8))\n",
    "plt.stem(sat3_data)\n",
    "\n",
    "## Looking at the figure visually you should be able to decode the message\n",
    "\n"
   ]
  },
  {
   "cell_type": "markdown",
   "metadata": {},
   "source": [
    "### Part (g)\n",
    "Hint: You can use a absolute value threshold of 800 for the cross-correlation to detect if a given satellite is present. \n",
    "\n",
    "Hint: np.argwhere may be useful for detecting satellites with peaks. You can use other functions/ use a manual process."
   ]
  },
  {
   "cell_type": "code",
   "execution_count": null,
   "metadata": {},
   "outputs": [],
   "source": [
    "#OPTIONAL PART\n",
    "## DATA3.NPY IS RECEIVED SIGNAL ARRAY\n",
    "signal3 = np.load('data3.npy')\n",
    "visible_sat_g = np.zeros(24) #this can be used to keep track of which satellites are visible\n",
    "thresh = 800\n",
    "# YOUR CODE HERE"
   ]
  },
  {
   "cell_type": "markdown",
   "metadata": {},
   "source": [
    "##  Audio File Matching\n",
    "\n",
    "This notebook continues the audio file matching problem. Be sure to have song.wav and clip.wav in the same directory as the notebook.\n",
    "\n",
    "In this notebook, we will look at the problem of searching for a small audio clip inside a song.\n",
    "\n",
    "The song \"Mandelbrot Set\" by Jonathan Coulton is licensed under <a href=\"http://creativecommons.org/licenses/by-nc/3.0/\">CC BY-NC 3.0</a>\n",
    "\n",
    "If you have trouble playing the audio file in IPython, try opening it in a different browser. I encountered problem with Safari but Chrome works for me."
   ]
  },
  {
   "cell_type": "markdown",
   "metadata": {},
   "source": [
    "### Setup"
   ]
  },
  {
   "cell_type": "code",
   "execution_count": null,
   "metadata": {},
   "outputs": [],
   "source": [
    "import numpy as np\n",
    "import wave\n",
    "import matplotlib.pyplot as plt\n",
    "import scipy.io.wavfile\n",
    "import operator\n",
    "from IPython.display import Audio\n",
    "%matplotlib inline\n",
    "\n",
    "given_file = 'song.wav'\n",
    "target_file = 'clip.wav'\n",
    "rate_given,  given_signal  = scipy.io.wavfile.read(given_file)\n",
    "rate_target, target_signal = scipy.io.wavfile.read(target_file)\n",
    "given_signal  = given_signal[:2000000].astype(float)\n",
    "target_signal = target_signal.astype(float)\n",
    "def play_clip(start, end, signal=given_signal):\n",
    "    scipy.io.wavfile.write('temp.wav', rate_given, signal[start:end].astype(np.int16))\n",
    "    return Audio(url='temp.wav', autoplay=False)\n",
    "\n",
    "def run_comparison(target_signal, given_signal, idxs=None):\n",
    "    # Run everything if not called with idxs set to something\n",
    "    if idxs is None:\n",
    "        idxs = [i for i in range(len(given_signal)-len(target_signal))]\n",
    "    return idxs, [vector_compare(target_signal, given_signal[i:i+len(target_signal)])\n",
    "                for i in idxs]\n",
    "\n",
    "play_clip(0, len(given_signal))\n",
    "\n",
    "#scipy.io.wavfile.write(target_file, rate_given, (-0.125*given_signal[1380000:1380000+70000]).astype(np.int16))"
   ]
  },
  {
   "cell_type": "markdown",
   "metadata": {},
   "source": [
    "We will load the song into the variable `given_signal` and load the short clip into the variable `target_signal`. Your job is to finish code that will identify the short clip's location in the song. The clip we are trying to find will play after executing the following block."
   ]
  },
  {
   "cell_type": "code",
   "execution_count": null,
   "metadata": {},
   "outputs": [],
   "source": [
    "Audio(url=target_file, autoplay=False)"
   ]
  },
  {
   "cell_type": "markdown",
   "metadata": {},
   "source": [
    "### Part (e)\n",
    "Your task is to define the function 'vector_compare' and run the following code. Because the song has a lot of data, you should use the provided examples from the previous parts of the problem before running the later code. Do you results here make sense given your answers to previous parts of the problem?"
   ]
  },
  {
   "cell_type": "code",
   "execution_count": null,
   "metadata": {},
   "outputs": [],
   "source": [
    "def vector_compare(desired_vec, test_vec):\n",
    "    \"\"\"This function compares two vectors, returning a number.\n",
    "    The test vector with the highest return value is regarded as being closest to the desired vector.\"\"\"\n",
    "   #YOUR CODE HERE\n",
    "\n",
    "print(\"Vector compare test examples:\")\n",
    "print(vector_compare(np.array([1,1,1]), np.array([1,1,1])))\n",
    "print(vector_compare(np.array([1,1,1]), np.array([-1,-1,-1])))\n",
    "print(vector_compare(np.array([1,1,1]), np.array([-1,1,-1])))"
   ]
  },
  {
   "cell_type": "markdown",
   "metadata": {},
   "source": [
    "Run the following code that runs `vector_compare` on every subsequence in the song- it will probably take at least 5 minutes. How do you interpret this plot to find where the clip is in the song?"
   ]
  },
  {
   "cell_type": "code",
   "execution_count": null,
   "metadata": {},
   "outputs": [],
   "source": [
    "import time\n",
    "\n",
    "t0 = time.time()\n",
    "idxs, song_compare = run_comparison(target_signal, given_signal)\n",
    "t1 = time.time()\n",
    "plt.plot(idxs, song_compare)\n",
    "print (\"That took %(time).2f minutes to run\" % {'time':(t1-t0)/60.0} )"
   ]
  },
  {
   "cell_type": "markdown",
   "metadata": {},
   "source": [
    "In the space below, write code that uses `song_compare` to print the index of `given_signal` where `target_signal` begins. Then, verify that your answer is correct by playing the song at that index using the `play_clip` function."
   ]
  },
  {
   "cell_type": "code",
   "execution_count": null,
   "metadata": {},
   "outputs": [],
   "source": [
    "#YOUR CODE HERE"
   ]
  },
  {
   "cell_type": "code",
   "execution_count": null,
   "metadata": {},
   "outputs": [],
   "source": []
  }
 ],
 "metadata": {
  "anaconda-cloud": {},
  "kernelspec": {
   "display_name": "Python 3",
   "language": "python",
   "name": "python3"
  },
  "language_info": {
   "codemirror_mode": {
    "name": "ipython",
    "version": 3
   },
   "file_extension": ".py",
   "mimetype": "text/x-python",
   "name": "python",
   "nbconvert_exporter": "python",
   "pygments_lexer": "ipython3",
   "version": "3.8.8"
  }
 },
 "nbformat": 4,
 "nbformat_minor": 1
}
